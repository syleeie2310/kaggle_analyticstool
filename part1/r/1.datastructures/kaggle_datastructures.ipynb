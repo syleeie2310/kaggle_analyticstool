{
 "cells": [
  {
   "cell_type": "markdown",
   "metadata": {},
   "source": [
    "# 캐글뽀개기 분석툴(주말) R 2015-10-24(토) Advanced R by Hadley Wickham\n",
    "## Introduction\n",
    "- It’s free, open source, and available on every major platform. As a result, if you do your analysis in R, anyone can easily replicate it.\n",
    "- A massive set of packages for statistical modelling, machine learning, visualisation, and importing and manipulating data. Whatever model or graphic you’re trying to do, chances are that someone has already tried to do it. At a minimum, you can learn from their efforts.\n",
    "- Cutting edge tools. Researchers in statistics and machine learning will often publish an R package to accompany their articles. This means immediate access to the very latest statistical techniques and implementations.\n",
    "- Deep-seated language support for data analysis. This includes features likes missing values, data frames, and subsetting.\n",
    "- A fantastic community. It is easy to get help from experts on the R-help mailing list, stackoverflow, or subject-specific mailing lists like R-SIG-mixed-models or ggplot2. You can also connect with other R learners via twitter, linkedin, and through many local user groups.\n",
    "- Powerful tools for communicating your results. R packages make it easy to produce html or pdf reports, or create interactive websites.\n",
    "- A strong foundation in functional programming. The ideas of functional programming are well suited to solving many of the challenges of data analysis. R provides a powerful and flexible toolkit which allows you to write concise yet descriptive code.\n",
    "- An IDE tailored to the needs of interactive data analysis and statistical programming.\n",
    "- Powerful metaprogramming facilities. R is not just a programming language, it is also an environment for interactive data analysis. Its metaprogramming capabilities allow you to write magically succinct and concise functions and provide an excellent environment for designing domain-specific languages.\n",
    "- Designed to connect to high-performance programming languages like C, Fortran, and C++.\n",
    "- Much of the R code you’ll see in the wild is written in haste to solve a pressing problem. As a result, code is not very elegant, fast, or easy to understand. Most users do not revise their code to address these shortcomings.\n",
    "- Compared to other programming languages, the R community tends to be more focussed on results instead of processes. Knowledge of software engineering best practices is patchy: for instance, not enough R programmers use source code control or automated testing.\n",
    "- Metaprogramming is a double-edged sword. Too many R functions use tricks to reduce the amount of typing at the cost of making code that is hard to understand and that can fail in unexpected ways.\n",
    "- Inconsistency is rife across contributed packages, even within base R. You are confronted with over 20 years of evolution every time you use R. Learning R can be tough because there are many special cases to remember.\n",
    "- R is not a particularly fast programming language, and poorly written R code can be terribly slow. R is also a profligate user of memory.\n",
    "\n",
    "## Who should read this book\n",
    "- Intermediate R programmers who want to dive deeper into R and learn new strategies for solving diverse problems.\n",
    "- Programmers from other languages who are learning R and want to understand why R works the way it does.\n"
   ]
  },
  {
   "cell_type": "markdown",
   "metadata": {},
   "source": [
    "## Data structures\n",
    "- This chapter summarises the most important data structures in base R. You’ve probably used many (if not all) of them before, but you may not have thought deeply about how they are interrelated. In this brief overview, I won’t discuss individual types in depth. Instead, I’ll show you how they fit together as a whole. If you need more details, you can find them in R’s documentation.\n",
    "\n",
    "- R’s base data structures can be organised by their dimensionality (1d, 2d, or nd) and whether theyre 동질성(homogeneous) (all contents must be of the same type) or 이질성(heterogeneous) (the contents can be of different types). This gives rise to the five data types most often used in data analysis:\n",
    "\n",
    "| dim | Homogeneous | Heterogeneous |\n",
    "|:-----------|------------:|:------------:|\n",
    "| 1d      |Atomic vector |     List     \n",
    "| 2d     |Matrix\tData | Data frame    \n",
    "| nd       |       array |     will     \n",
    "\n",
    "- Almost all other objects are built upon these foundations. In the OO field guide you’ll see how more complicated objects are built of these simple pieces. Note that R has no 0-dimensional, or scalar types. Individual numbers or strings, which you might think would be scalars, are actually vectors of length one."
   ]
  },
  {
   "cell_type": "markdown",
   "metadata": {},
   "source": [
    "## Vectors\n",
    "- The basic data structure in R is the vector. Vectors come in two flavours: atomic vectors and lists. They have three common properties:\n",
    "\n",
    "- Type, typeof(), what it is.\n",
    "- Length, length(), how many elements it contains.\n",
    "- Attributes, attributes(), additional arbitrary metadata.\n",
    "- They differ in the types of their elements: all elements of an atomic vector must be the same type(원자벡터는 같은 타입), whereas the elements of a list can have different types(리스트는 다른 타입)\n",
    "- NB: is.vector() does not test if an object is a vector. Instead it returns TRUE only if the object is a vector with no attributes apart from names. Use is.atomic(x) || is.list(x) to test if an object is actually a vector."
   ]
  },
  {
   "cell_type": "code",
   "execution_count": 1,
   "metadata": {
    "collapsed": false
   },
   "outputs": [
    {
     "data": {
      "text/html": [
       "\"double\""
      ],
      "text/latex": [
       "\"double\""
      ],
      "text/markdown": [
       "\"double\""
      ],
      "text/plain": [
       "[1] \"double\""
      ]
     },
     "execution_count": 1,
     "metadata": {},
     "output_type": "execute_result"
    }
   ],
   "source": [
    "typeof(2)"
   ]
  },
  {
   "cell_type": "code",
   "execution_count": 2,
   "metadata": {
    "collapsed": false
   },
   "outputs": [
    {
     "data": {
      "text/html": [
       "\"numeric\""
      ],
      "text/latex": [
       "\"numeric\""
      ],
      "text/markdown": [
       "\"numeric\""
      ],
      "text/plain": [
       "[1] \"numeric\""
      ]
     },
     "execution_count": 2,
     "metadata": {},
     "output_type": "execute_result"
    }
   ],
   "source": [
    "mode(2)"
   ]
  },
  {
   "cell_type": "code",
   "execution_count": 4,
   "metadata": {
    "collapsed": false
   },
   "outputs": [
    {
     "data": {
      "text/html": [
       "TRUE"
      ],
      "text/latex": [
       "TRUE"
      ],
      "text/markdown": [
       "TRUE"
      ],
      "text/plain": [
       "[1] TRUE"
      ]
     },
     "execution_count": 4,
     "metadata": {},
     "output_type": "execute_result"
    }
   ],
   "source": [
    "is.atomic(2)"
   ]
  },
  {
   "cell_type": "code",
   "execution_count": 5,
   "metadata": {
    "collapsed": false
   },
   "outputs": [
    {
     "data": {
      "text/html": [
       "TRUE"
      ],
      "text/latex": [
       "TRUE"
      ],
      "text/markdown": [
       "TRUE"
      ],
      "text/plain": [
       "[1] TRUE"
      ]
     },
     "execution_count": 5,
     "metadata": {},
     "output_type": "execute_result"
    }
   ],
   "source": [
    "is.vector(2)"
   ]
  },
  {
   "cell_type": "markdown",
   "metadata": {},
   "source": [
    "## Atomic vectors\n",
    "- There are four common types of atomic vectors that Ill discuss in detail: logical, integer, double (often called numeric), and character. There are two rare types that I will not discuss further: complex and raw.\n",
    "- Atomic vectors are usually created with c(), short for combine:"
   ]
  },
  {
   "cell_type": "code",
   "execution_count": 6,
   "metadata": {
    "collapsed": true
   },
   "outputs": [],
   "source": [
    "dbl_var <- c(1, 2.5, 4.5)\n",
    "# With the L suffix, you get an integer rather than a double\n",
    "int_var <- c(1L, 6L, 10L)\n",
    "# Use TRUE and FALSE (or T and F) to create logical vectors\n",
    "log_var <- c(TRUE, FALSE, T, F)\n",
    "chr_var <- c(\"these are\", \"some strings\")"
   ]
  },
  {
   "cell_type": "code",
   "execution_count": 7,
   "metadata": {
    "collapsed": false
   },
   "outputs": [
    {
     "data": {
      "text/html": [
       "\"double\""
      ],
      "text/latex": [
       "\"double\""
      ],
      "text/markdown": [
       "\"double\""
      ],
      "text/plain": [
       "[1] \"double\""
      ]
     },
     "execution_count": 7,
     "metadata": {},
     "output_type": "execute_result"
    }
   ],
   "source": [
    "typeof(dbl_var)"
   ]
  },
  {
   "cell_type": "code",
   "execution_count": 8,
   "metadata": {
    "collapsed": false
   },
   "outputs": [
    {
     "data": {
      "text/html": [
       "\"integer\""
      ],
      "text/latex": [
       "\"integer\""
      ],
      "text/markdown": [
       "\"integer\""
      ],
      "text/plain": [
       "[1] \"integer\""
      ]
     },
     "execution_count": 8,
     "metadata": {},
     "output_type": "execute_result"
    }
   ],
   "source": [
    "typeof(int_var)"
   ]
  },
  {
   "cell_type": "code",
   "execution_count": 9,
   "metadata": {
    "collapsed": false
   },
   "outputs": [
    {
     "data": {
      "text/html": [
       "\"logical\""
      ],
      "text/latex": [
       "\"logical\""
      ],
      "text/markdown": [
       "\"logical\""
      ],
      "text/plain": [
       "[1] \"logical\""
      ]
     },
     "execution_count": 9,
     "metadata": {},
     "output_type": "execute_result"
    }
   ],
   "source": [
    "typeof(log_var)"
   ]
  },
  {
   "cell_type": "code",
   "execution_count": 10,
   "metadata": {
    "collapsed": false
   },
   "outputs": [
    {
     "data": {
      "text/html": [
       "\"character\""
      ],
      "text/latex": [
       "\"character\""
      ],
      "text/markdown": [
       "\"character\""
      ],
      "text/plain": [
       "[1] \"character\""
      ]
     },
     "execution_count": 10,
     "metadata": {},
     "output_type": "execute_result"
    }
   ],
   "source": [
    "typeof(chr_var)"
   ]
  },
  {
   "cell_type": "code",
   "execution_count": 11,
   "metadata": {
    "collapsed": false
   },
   "outputs": [
    {
     "data": {
      "text/html": [
       "<ol class=list-inline>\n",
       "\t<li>1</li>\n",
       "\t<li>2</li>\n",
       "\t<li>3</li>\n",
       "\t<li>4</li>\n",
       "</ol>\n"
      ],
      "text/latex": [
       "\\begin{enumerate*}\n",
       "\\item 1\n",
       "\\item 2\n",
       "\\item 3\n",
       "\\item 4\n",
       "\\end{enumerate*}\n"
      ],
      "text/markdown": [
       "1. 1\n",
       "2. 2\n",
       "3. 3\n",
       "4. 4\n",
       "\n",
       "\n"
      ],
      "text/plain": [
       "[1] 1 2 3 4"
      ]
     },
     "execution_count": 11,
     "metadata": {},
     "output_type": "execute_result"
    },
    {
     "data": {
      "text/html": [
       "<ol class=list-inline>\n",
       "\t<li>1</li>\n",
       "\t<li>2</li>\n",
       "\t<li>3</li>\n",
       "\t<li>4</li>\n",
       "</ol>\n"
      ],
      "text/latex": [
       "\\begin{enumerate*}\n",
       "\\item 1\n",
       "\\item 2\n",
       "\\item 3\n",
       "\\item 4\n",
       "\\end{enumerate*}\n"
      ],
      "text/markdown": [
       "1. 1\n",
       "2. 2\n",
       "3. 3\n",
       "4. 4\n",
       "\n",
       "\n"
      ],
      "text/plain": [
       "[1] 1 2 3 4"
      ]
     },
     "execution_count": 11,
     "metadata": {},
     "output_type": "execute_result"
    }
   ],
   "source": [
    "c(1, c(2, c(3, 4)))\n",
    "#> [1] 1 2 3 4\n",
    "# the same as\n",
    "c(1, 2, 3, 4)\n",
    "#> [1] 1 2 3 4"
   ]
  },
  {
   "cell_type": "markdown",
   "metadata": {},
   "source": [
    "- Missing values are specified with NA, which is a logical vector of length 1. NA will always be coerced to the correct type if used inside c(), or you can create NAs of a specific type with NA_real_ (a double vector), NA_integer_ and NA_character_.\n",
    "\n",
    "## Types and tests\n",
    "- Given a vector, you can determine its type with typeof(), or check if it’s a specific type with an “is” function: is.character(), is.double(), is.integer(), is.logical(), or, more generally, is.atomic()."
   ]
  },
  {
   "cell_type": "code",
   "execution_count": 12,
   "metadata": {
    "collapsed": false
   },
   "outputs": [
    {
     "data": {
      "text/html": [
       "\"integer\""
      ],
      "text/latex": [
       "\"integer\""
      ],
      "text/markdown": [
       "\"integer\""
      ],
      "text/plain": [
       "[1] \"integer\""
      ]
     },
     "execution_count": 12,
     "metadata": {},
     "output_type": "execute_result"
    },
    {
     "data": {
      "text/html": [
       "TRUE"
      ],
      "text/latex": [
       "TRUE"
      ],
      "text/markdown": [
       "TRUE"
      ],
      "text/plain": [
       "[1] TRUE"
      ]
     },
     "execution_count": 12,
     "metadata": {},
     "output_type": "execute_result"
    },
    {
     "data": {
      "text/html": [
       "TRUE"
      ],
      "text/latex": [
       "TRUE"
      ],
      "text/markdown": [
       "TRUE"
      ],
      "text/plain": [
       "[1] TRUE"
      ]
     },
     "execution_count": 12,
     "metadata": {},
     "output_type": "execute_result"
    },
    {
     "data": {
      "text/html": [
       "\"double\""
      ],
      "text/latex": [
       "\"double\""
      ],
      "text/markdown": [
       "\"double\""
      ],
      "text/plain": [
       "[1] \"double\""
      ]
     },
     "execution_count": 12,
     "metadata": {},
     "output_type": "execute_result"
    },
    {
     "data": {
      "text/html": [
       "TRUE"
      ],
      "text/latex": [
       "TRUE"
      ],
      "text/markdown": [
       "TRUE"
      ],
      "text/plain": [
       "[1] TRUE"
      ]
     },
     "execution_count": 12,
     "metadata": {},
     "output_type": "execute_result"
    },
    {
     "data": {
      "text/html": [
       "TRUE"
      ],
      "text/latex": [
       "TRUE"
      ],
      "text/markdown": [
       "TRUE"
      ],
      "text/plain": [
       "[1] TRUE"
      ]
     },
     "execution_count": 12,
     "metadata": {},
     "output_type": "execute_result"
    }
   ],
   "source": [
    "int_var <- c(1L, 6L, 10L)\n",
    "typeof(int_var)\n",
    "#> [1] \"integer\"\n",
    "is.integer(int_var)\n",
    "#> [1] TRUE\n",
    "is.atomic(int_var)\n",
    "#> [1] TRUE\n",
    "\n",
    "dbl_var <- c(1, 2.5, 4.5)\n",
    "typeof(dbl_var)\n",
    "#> [1] \"double\"\n",
    "is.double(dbl_var)\n",
    "#> [1] TRUE\n",
    "is.atomic(dbl_var)\n",
    "#> [1] TRUE"
   ]
  },
  {
   "cell_type": "code",
   "execution_count": 13,
   "metadata": {
    "collapsed": false
   },
   "outputs": [
    {
     "data": {
      "text/html": [
       "TRUE"
      ],
      "text/latex": [
       "TRUE"
      ],
      "text/markdown": [
       "TRUE"
      ],
      "text/plain": [
       "[1] TRUE"
      ]
     },
     "execution_count": 13,
     "metadata": {},
     "output_type": "execute_result"
    },
    {
     "data": {
      "text/html": [
       "TRUE"
      ],
      "text/latex": [
       "TRUE"
      ],
      "text/markdown": [
       "TRUE"
      ],
      "text/plain": [
       "[1] TRUE"
      ]
     },
     "execution_count": 13,
     "metadata": {},
     "output_type": "execute_result"
    }
   ],
   "source": [
    "is.numeric(int_var) #integer and double vectors \n",
    "#> [1] TRUE\n",
    "is.numeric(dbl_var)\n",
    "#> [1] TRUE"
   ]
  },
  {
   "cell_type": "markdown",
   "metadata": {},
   "source": [
    "## Coercion\n",
    "- All elements of an atomic vector must be the same type, so when you attempt to combine different types they will be coerced to the most flexible type. Types from least to most flexible are: logical, integer, double, and character.\n",
    "- For example, combining a character and an integer yields a character:"
   ]
  },
  {
   "cell_type": "code",
   "execution_count": 14,
   "metadata": {
    "collapsed": false
   },
   "outputs": [
    {
     "name": "stdout",
     "output_type": "stream",
     "text": [
      " chr [1:2] \"a\" \"1\"\n"
     ]
    }
   ],
   "source": [
    "str(c(\"a\", 1))\n",
    "#>  chr [1:2] \"a\" \"1\""
   ]
  },
  {
   "cell_type": "code",
   "execution_count": 16,
   "metadata": {
    "collapsed": false
   },
   "outputs": [
    {
     "data": {
      "text/html": [
       "<ol class=list-inline>\n",
       "\t<li>0</li>\n",
       "\t<li>0</li>\n",
       "\t<li>1</li>\n",
       "</ol>\n"
      ],
      "text/latex": [
       "\\begin{enumerate*}\n",
       "\\item 0\n",
       "\\item 0\n",
       "\\item 1\n",
       "\\end{enumerate*}\n"
      ],
      "text/markdown": [
       "1. 0\n",
       "2. 0\n",
       "3. 1\n",
       "\n",
       "\n"
      ],
      "text/plain": [
       "[1] 0 0 1"
      ]
     },
     "execution_count": 16,
     "metadata": {},
     "output_type": "execute_result"
    }
   ],
   "source": [
    "x <- c(FALSE, FALSE, TRUE)\n",
    "as.numeric(x)\n",
    "#> [1] 0 0 1"
   ]
  },
  {
   "cell_type": "code",
   "execution_count": 17,
   "metadata": {
    "collapsed": false
   },
   "outputs": [
    {
     "data": {
      "text/html": [
       "1"
      ],
      "text/latex": [
       "1"
      ],
      "text/markdown": [
       "1"
      ],
      "text/plain": [
       "[1] 1"
      ]
     },
     "execution_count": 17,
     "metadata": {},
     "output_type": "execute_result"
    }
   ],
   "source": [
    "# Total number of TRUEs\n",
    "sum(x)\n",
    "#> [1] 1\n"
   ]
  },
  {
   "cell_type": "code",
   "execution_count": 18,
   "metadata": {
    "collapsed": false
   },
   "outputs": [
    {
     "data": {
      "text/html": [
       "0.333333333333333"
      ],
      "text/latex": [
       "0.333333333333333"
      ],
      "text/markdown": [
       "0.333333333333333"
      ],
      "text/plain": [
       "[1] 0.3333333"
      ]
     },
     "execution_count": 18,
     "metadata": {},
     "output_type": "execute_result"
    }
   ],
   "source": [
    "# Proportion that are TRUE\n",
    "mean(x)\n",
    "#> [1] 0.3333333"
   ]
  },
  {
   "cell_type": "markdown",
   "metadata": {},
   "source": [
    "- Coercion often happens automatically. Most mathematical functions (+, log, abs, etc.) will coerce to a double or integer, and most logical operations (&, |, any, etc) will coerce to a logical. You will usually get a warning message if the coercion might lose information. If confusion is likely, explicitly coerce with as.character(), as.double(), as.integer(), or as.logical()."
   ]
  },
  {
   "cell_type": "markdown",
   "metadata": {},
   "source": [
    "## Lists\n",
    "- Lists are different from atomic vectors because their elements can be of any type, including lists. You construct lists by using list() instead of c():"
   ]
  },
  {
   "cell_type": "code",
   "execution_count": 19,
   "metadata": {
    "collapsed": false
   },
   "outputs": [
    {
     "name": "stdout",
     "output_type": "stream",
     "text": [
      "List of 4\n",
      " $ : int [1:3] 1 2 3\n",
      " $ : chr \"a\"\n",
      " $ : logi [1:3] TRUE FALSE TRUE\n",
      " $ : num [1:2] 2.3 5.9\n"
     ]
    }
   ],
   "source": [
    "x <- list(1:3, \"a\", c(TRUE, FALSE, TRUE), c(2.3, 5.9))\n",
    "str(x)\n",
    "#> List of 4\n",
    "#>  $ : int [1:3] 1 2 3\n",
    "#>  $ : chr \"a\"\n",
    "#>  $ : logi [1:3] TRUE FALSE TRUE\n",
    "#>  $ : num [1:2] 2.3 5.9"
   ]
  },
  {
   "cell_type": "markdown",
   "metadata": {},
   "source": [
    "- Lists are sometimes called recursive vectors, because a list can contain other lists. This makes them fundamentally different from atomic vectors."
   ]
  },
  {
   "cell_type": "code",
   "execution_count": 20,
   "metadata": {
    "collapsed": false
   },
   "outputs": [
    {
     "name": "stdout",
     "output_type": "stream",
     "text": [
      "List of 1\n",
      " $ :List of 1\n",
      "  ..$ :List of 1\n",
      "  .. ..$ : list()\n"
     ]
    }
   ],
   "source": [
    "x <- list(list(list(list())))\n",
    "str(x)"
   ]
  },
  {
   "cell_type": "code",
   "execution_count": 21,
   "metadata": {
    "collapsed": false
   },
   "outputs": [
    {
     "data": {
      "text/html": [
       "TRUE"
      ],
      "text/latex": [
       "TRUE"
      ],
      "text/markdown": [
       "TRUE"
      ],
      "text/plain": [
       "[1] TRUE"
      ]
     },
     "execution_count": 21,
     "metadata": {},
     "output_type": "execute_result"
    }
   ],
   "source": [
    "is.recursive(x)"
   ]
  },
  {
   "cell_type": "code",
   "execution_count": 22,
   "metadata": {
    "collapsed": false
   },
   "outputs": [
    {
     "name": "stdout",
     "output_type": "stream",
     "text": [
      "List of 2\n",
      " $ :List of 2\n",
      "  ..$ : num 1\n",
      "  ..$ : num 2\n",
      " $ : num [1:2] 3 4\n"
     ]
    }
   ],
   "source": [
    "x <- list(list(1, 2), c(3, 4))\n",
    "y <- c(list(1, 2), c(3, 4))\n",
    "str(x)"
   ]
  },
  {
   "cell_type": "code",
   "execution_count": 23,
   "metadata": {
    "collapsed": false
   },
   "outputs": [
    {
     "name": "stdout",
     "output_type": "stream",
     "text": [
      "List of 4\n",
      " $ : num 1\n",
      " $ : num 2\n",
      " $ : num 3\n",
      " $ : num 4\n"
     ]
    }
   ],
   "source": [
    "str(y)"
   ]
  },
  {
   "cell_type": "markdown",
   "metadata": {},
   "source": [
    "- The typeof() a list is list. You can test for a list with is.list() and coerce to a list with as.list(). You can turn a list into an atomic vector with unlist(). If the elements of a list have different types, unlist() uses the same coercion rules as c().\n",
    "\n",
    "- Lists are used to build up many of the more complicated data structures in R. For example, both data frames (described in data frames) and linear models objects (as produced by lm()) are lists:"
   ]
  },
  {
   "cell_type": "code",
   "execution_count": 24,
   "metadata": {
    "collapsed": false
   },
   "outputs": [
    {
     "data": {
      "text/html": [
       "TRUE"
      ],
      "text/latex": [
       "TRUE"
      ],
      "text/markdown": [
       "TRUE"
      ],
      "text/plain": [
       "[1] TRUE"
      ]
     },
     "execution_count": 24,
     "metadata": {},
     "output_type": "execute_result"
    },
    {
     "data": {
      "text/html": [
       "TRUE"
      ],
      "text/latex": [
       "TRUE"
      ],
      "text/markdown": [
       "TRUE"
      ],
      "text/plain": [
       "[1] TRUE"
      ]
     },
     "execution_count": 24,
     "metadata": {},
     "output_type": "execute_result"
    }
   ],
   "source": [
    "is.list(mtcars)\n",
    "#> [1] TRUE\n",
    "\n",
    "mod <- lm(mpg ~ wt, data = mtcars)\n",
    "is.list(mod)\n",
    "#> [1] TRUE"
   ]
  },
  {
   "cell_type": "markdown",
   "metadata": {},
   "source": [
    "## Attributes\n",
    "- All objects can have arbitrary additional attributes, used to store metadata about the object. Attributes can be thought of as a named list (with unique names). Attributes can be accessed individually with attr() or all at once (as a list) with attributes()."
   ]
  },
  {
   "cell_type": "code",
   "execution_count": 25,
   "metadata": {
    "collapsed": false
   },
   "outputs": [
    {
     "data": {
      "text/html": [
       "\"This is a vector\""
      ],
      "text/latex": [
       "\"This is a vector\""
      ],
      "text/markdown": [
       "\"This is a vector\""
      ],
      "text/plain": [
       "[1] \"This is a vector\""
      ]
     },
     "execution_count": 25,
     "metadata": {},
     "output_type": "execute_result"
    }
   ],
   "source": [
    "y <- 1:10\n",
    "attr(y, \"my_attribute\") <- \"This is a vector\"\n",
    "attr(y, \"my_attribute\")"
   ]
  },
  {
   "cell_type": "code",
   "execution_count": 26,
   "metadata": {
    "collapsed": false
   },
   "outputs": [
    {
     "name": "stdout",
     "output_type": "stream",
     "text": [
      "List of 1\n",
      " $ my_attribute: chr \"This is a vector\"\n"
     ]
    }
   ],
   "source": [
    "str(attributes(y))"
   ]
  },
  {
   "cell_type": "code",
   "execution_count": 33,
   "metadata": {
    "collapsed": false
   },
   "outputs": [
    {
     "data": {
      "text/html": [
       "<ol class=list-inline>\n",
       "\t<li>1</li>\n",
       "\t<li>2</li>\n",
       "\t<li>3</li>\n",
       "\t<li>4</li>\n",
       "\t<li>5</li>\n",
       "\t<li>6</li>\n",
       "\t<li>7</li>\n",
       "\t<li>8</li>\n",
       "\t<li>9</li>\n",
       "\t<li>10</li>\n",
       "</ol>\n"
      ],
      "text/latex": [
       "\\begin{enumerate*}\n",
       "\\item 1\n",
       "\\item 2\n",
       "\\item 3\n",
       "\\item 4\n",
       "\\item 5\n",
       "\\item 6\n",
       "\\item 7\n",
       "\\item 8\n",
       "\\item 9\n",
       "\\item 10\n",
       "\\end{enumerate*}\n"
      ],
      "text/markdown": [
       "1. 1\n",
       "2. 2\n",
       "3. 3\n",
       "4. 4\n",
       "5. 5\n",
       "6. 6\n",
       "7. 7\n",
       "8. 8\n",
       "9. 9\n",
       "10. 10\n",
       "\n",
       "\n"
      ],
      "text/plain": [
       " [1]  1  2  3  4  5  6  7  8  9 10\n",
       "attr(,\"my_attribute\")\n",
       "[1] \"This is a vector\""
      ]
     },
     "execution_count": 33,
     "metadata": {},
     "output_type": "execute_result"
    }
   ],
   "source": [
    "structure(1:10, my_attribute = \"This is a vector\")"
   ]
  },
  {
   "cell_type": "code",
   "execution_count": 30,
   "metadata": {
    "collapsed": false
   },
   "outputs": [
    {
     "data": {
      "text/html": [
       "<table>\n",
       "<tbody>\n",
       "\t<tr><td>1</td><td>3</td><td>5</td></tr>\n",
       "\t<tr><td>2</td><td>4</td><td>6</td></tr>\n",
       "</tbody>\n",
       "</table>\n"
      ],
      "text/latex": [
       "\\begin{tabular}{lll}\n",
       "\t 1 & 3 & 5\\\\\n",
       "\t 2 & 4 & 6\\\\\n",
       "\\end{tabular}\n"
      ],
      "text/markdown": [
       "1. 1\n",
       "2. 2\n",
       "3. 3\n",
       "4. 4\n",
       "5. 5\n",
       "6. 6\n",
       "\n",
       "\n"
      ],
      "text/plain": [
       "     [,1] [,2] [,3]\n",
       "[1,]    1    3    5\n",
       "[2,]    2    4    6"
      ]
     },
     "execution_count": 30,
     "metadata": {},
     "output_type": "execute_result"
    }
   ],
   "source": [
    "structure(1:6, dim = 2:3)"
   ]
  },
  {
   "cell_type": "code",
   "execution_count": 34,
   "metadata": {
    "collapsed": false
   },
   "outputs": [
    {
     "data": {
      "text/plain": [
       "NULL"
      ]
     },
     "execution_count": 34,
     "metadata": {},
     "output_type": "execute_result"
    }
   ],
   "source": [
    "attributes(y[1])"
   ]
  },
  {
   "cell_type": "code",
   "execution_count": 35,
   "metadata": {
    "collapsed": false
   },
   "outputs": [
    {
     "data": {
      "text/plain": [
       "NULL"
      ]
     },
     "execution_count": 35,
     "metadata": {},
     "output_type": "execute_result"
    }
   ],
   "source": [
    "attributes(sum(y))"
   ]
  },
  {
   "cell_type": "markdown",
   "metadata": {},
   "source": [
    "- The only attributes not lost are the three most important:\n",
    "- Names, a character vector giving each element a name, described in names.\n",
    "- Dimensions, used to turn vectors into matrices and arrays, described in matrices and arrays.\n",
    "- Class, used to implement the S3 object system, described in S3.\n",
    "- Each of these attributes has a specific accessor function to get and set values. When working with these attributes, use names(x), dim(x), and class(x), not attr(x, \"names\"), attr(x, \"dim\"), and attr(x, \"class\")."
   ]
  },
  {
   "cell_type": "markdown",
   "metadata": {},
   "source": [
    "## Names\n",
    "- You can name a vector in three ways:\n",
    "- When creating it: x <- c(a = 1, b = 2, c = 3).\n",
    "- By modifying an existing vector in place: x <- 1:3; names(x) <- c(\"a\", \"b\", \"c\").\n",
    "- By creating a modified copy of a vector: x <- setNames(1:3, c(\"a\", \"b\", \"c\"))."
   ]
  },
  {
   "cell_type": "markdown",
   "metadata": {},
   "source": [
    "- Names don’t have to be unique. However, character subsetting, described in subsetting, is the most important reason to use names and it is most useful when the names are unique.\n",
    "\n",
    "- Not all elements of a vector need to have a name. If some names are missing, names() will return an empty string for those elements. If all names are missing, names() will return NULL."
   ]
  },
  {
   "cell_type": "code",
   "execution_count": 36,
   "metadata": {
    "collapsed": false
   },
   "outputs": [
    {
     "data": {
      "text/html": [
       "<ol class=list-inline>\n",
       "\t<li>\"a\"</li>\n",
       "\t<li>\"\"</li>\n",
       "\t<li>\"\"</li>\n",
       "</ol>\n"
      ],
      "text/latex": [
       "\\begin{enumerate*}\n",
       "\\item \"a\"\n",
       "\\item \"\"\n",
       "\\item \"\"\n",
       "\\end{enumerate*}\n"
      ],
      "text/markdown": [
       "1. \"a\"\n",
       "2. \"\"\n",
       "3. \"\"\n",
       "\n",
       "\n"
      ],
      "text/plain": [
       "[1] \"a\" \"\"  \"\" "
      ]
     },
     "execution_count": 36,
     "metadata": {},
     "output_type": "execute_result"
    }
   ],
   "source": [
    "y <- c(a = 1, 2, 3)\n",
    "names(y)"
   ]
  },
  {
   "cell_type": "code",
   "execution_count": 37,
   "metadata": {
    "collapsed": false
   },
   "outputs": [
    {
     "data": {
      "text/plain": [
       "NULL"
      ]
     },
     "execution_count": 37,
     "metadata": {},
     "output_type": "execute_result"
    }
   ],
   "source": [
    "z <- c(1, 2, 3)\n",
    "names(z)"
   ]
  },
  {
   "cell_type": "markdown",
   "metadata": {},
   "source": [
    "## Factors\n",
    "- One important use of attributes is to define factors. A factor is a vector that can contain only predefined values, and is used to store categorical data. Factors are built on top of integer vectors using two attributes: the class(), “factor”, which makes them behave differently from regular integer vectors, and the levels(), which defines the set of allowed values."
   ]
  },
  {
   "cell_type": "code",
   "execution_count": 38,
   "metadata": {
    "collapsed": false
   },
   "outputs": [
    {
     "data": {
      "text/html": [
       "<ol class=list-inline>\n",
       "\t<li>a</li>\n",
       "\t<li>b</li>\n",
       "\t<li>b</li>\n",
       "\t<li>a</li>\n",
       "</ol>\n"
      ],
      "text/latex": [
       "\\begin{enumerate*}\n",
       "\\item a\n",
       "\\item b\n",
       "\\item b\n",
       "\\item a\n",
       "\\end{enumerate*}\n"
      ],
      "text/markdown": [
       "1. a\n",
       "2. b\n",
       "3. b\n",
       "4. a\n",
       "\n",
       "\n"
      ],
      "text/plain": [
       "[1] a b b a\n",
       "Levels: a b"
      ]
     },
     "execution_count": 38,
     "metadata": {},
     "output_type": "execute_result"
    }
   ],
   "source": [
    "x <- factor(c(\"a\", \"b\", \"b\", \"a\"))\n",
    "x"
   ]
  },
  {
   "cell_type": "code",
   "execution_count": 39,
   "metadata": {
    "collapsed": false
   },
   "outputs": [
    {
     "data": {
      "text/html": [
       "\"factor\""
      ],
      "text/latex": [
       "\"factor\""
      ],
      "text/markdown": [
       "\"factor\""
      ],
      "text/plain": [
       "[1] \"factor\""
      ]
     },
     "execution_count": 39,
     "metadata": {},
     "output_type": "execute_result"
    }
   ],
   "source": [
    "class(x)"
   ]
  },
  {
   "cell_type": "code",
   "execution_count": 40,
   "metadata": {
    "collapsed": false
   },
   "outputs": [
    {
     "data": {
      "text/html": [
       "<ol class=list-inline>\n",
       "\t<li>\"a\"</li>\n",
       "\t<li>\"b\"</li>\n",
       "</ol>\n"
      ],
      "text/latex": [
       "\\begin{enumerate*}\n",
       "\\item \"a\"\n",
       "\\item \"b\"\n",
       "\\end{enumerate*}\n"
      ],
      "text/markdown": [
       "1. \"a\"\n",
       "2. \"b\"\n",
       "\n",
       "\n"
      ],
      "text/plain": [
       "[1] \"a\" \"b\""
      ]
     },
     "execution_count": 40,
     "metadata": {},
     "output_type": "execute_result"
    }
   ],
   "source": [
    "levels(x)"
   ]
  },
  {
   "cell_type": "code",
   "execution_count": 41,
   "metadata": {
    "collapsed": false
   },
   "outputs": [
    {
     "name": "stderr",
     "output_type": "stream",
     "text": [
      "Warning message:\n",
      "In `[<-.factor`(`*tmp*`, 2, value = \"c\"): invalid factor level, NA generated"
     ]
    }
   ],
   "source": [
    "x[2] <- \"c\""
   ]
  },
  {
   "cell_type": "code",
   "execution_count": 42,
   "metadata": {
    "collapsed": false
   },
   "outputs": [
    {
     "data": {
      "text/html": [
       "<ol class=list-inline>\n",
       "\t<li>1</li>\n",
       "\t<li>1</li>\n",
       "</ol>\n"
      ],
      "text/latex": [
       "\\begin{enumerate*}\n",
       "\\item 1\n",
       "\\item 1\n",
       "\\end{enumerate*}\n"
      ],
      "text/markdown": [
       "1. 1\n",
       "2. 1\n",
       "\n",
       "\n"
      ],
      "text/plain": [
       "[1] 1 1"
      ]
     },
     "execution_count": 42,
     "metadata": {},
     "output_type": "execute_result"
    }
   ],
   "source": [
    "c(factor(\"a\"), factor(\"b\"))"
   ]
  },
  {
   "cell_type": "code",
   "execution_count": 43,
   "metadata": {
    "collapsed": false
   },
   "outputs": [
    {
     "data": {
      "text/html": [
       "<ol class=list-inline>\n",
       "\t<li>a</li>\n",
       "\t<li>NA</li>\n",
       "\t<li>b</li>\n",
       "\t<li>a</li>\n",
       "</ol>\n"
      ],
      "text/latex": [
       "\\begin{enumerate*}\n",
       "\\item a\n",
       "\\item NA\n",
       "\\item b\n",
       "\\item a\n",
       "\\end{enumerate*}\n"
      ],
      "text/markdown": [
       "1. a\n",
       "2. NA\n",
       "3. b\n",
       "4. a\n",
       "\n",
       "\n"
      ],
      "text/plain": [
       "[1] a    <NA> b    a   \n",
       "Levels: a b"
      ]
     },
     "execution_count": 43,
     "metadata": {},
     "output_type": "execute_result"
    }
   ],
   "source": [
    "x"
   ]
  },
  {
   "cell_type": "code",
   "execution_count": 44,
   "metadata": {
    "collapsed": true
   },
   "outputs": [],
   "source": [
    "sex_char <- c(\"m\", \"m\", \"m\")\n",
    "sex_factor <- factor(sex_char, levels = c(\"m\", \"f\"))"
   ]
  },
  {
   "cell_type": "code",
   "execution_count": 45,
   "metadata": {
    "collapsed": false
   },
   "outputs": [
    {
     "data": {
      "text/plain": [
       "sex_char\n",
       "m \n",
       "3 "
      ]
     },
     "execution_count": 45,
     "metadata": {},
     "output_type": "execute_result"
    }
   ],
   "source": [
    "table(sex_char)"
   ]
  },
  {
   "cell_type": "code",
   "execution_count": 46,
   "metadata": {
    "collapsed": false
   },
   "outputs": [
    {
     "data": {
      "text/plain": [
       "sex_factor\n",
       "m f \n",
       "3 0 "
      ]
     },
     "execution_count": 46,
     "metadata": {},
     "output_type": "execute_result"
    }
   ],
   "source": [
    "table(sex_factor)"
   ]
  },
  {
   "cell_type": "markdown",
   "metadata": {},
   "source": [
    "- Sometimes when a data frame is read directly from a file, a column you’d thought would produce a numeric vector instead produces a factor. \n",
    "\n",
    "- This is caused by a non-numeric value in the column, often a missing value encoded in a special way like . or -. To remedy the situation, coerce the vector from a factor to a character vector, and then from a character to a double vector. (Be sure to check for missing values after this process.) \n",
    "\n",
    "- Of course, a much better plan is to discover what caused the problem in the first place and fix that; using the na.strings argument to read.csv() is often a good place to start."
   ]
  },
  {
   "cell_type": "code",
   "execution_count": 47,
   "metadata": {
    "collapsed": true
   },
   "outputs": [],
   "source": [
    "z <- read.csv(text = \"value\\n12\\n1\\n.\\n9\")"
   ]
  },
  {
   "cell_type": "code",
   "execution_count": 51,
   "metadata": {
    "collapsed": false
   },
   "outputs": [
    {
     "data": {
      "text/html": [
       "<table>\n",
       "<thead><tr><th></th><th scope=col>value</th></tr></thead>\n",
       "<tbody>\n",
       "\t<tr><th scope=row>1</th><td>12</td></tr>\n",
       "\t<tr><th scope=row>2</th><td>1</td></tr>\n",
       "\t<tr><th scope=row>3</th><td>.</td></tr>\n",
       "\t<tr><th scope=row>4</th><td>9</td></tr>\n",
       "</tbody>\n",
       "</table>\n"
      ],
      "text/latex": [
       "\\begin{tabular}{r|l}\n",
       "  & value\\\\\n",
       "\\hline\n",
       "\t1 & 12\\\\\n",
       "\t2 & 1\\\\\n",
       "\t3 & .\\\\\n",
       "\t4 & 9\\\\\n",
       "\\end{tabular}\n"
      ],
      "text/plain": [
       "  value\n",
       "1    12\n",
       "2     1\n",
       "3     .\n",
       "4     9"
      ]
     },
     "execution_count": 51,
     "metadata": {},
     "output_type": "execute_result"
    }
   ],
   "source": [
    "z"
   ]
  },
  {
   "cell_type": "code",
   "execution_count": 50,
   "metadata": {
    "collapsed": false
   },
   "outputs": [
    {
     "data": {
      "text/html": [
       "\"integer\""
      ],
      "text/latex": [
       "\"integer\""
      ],
      "text/markdown": [
       "\"integer\""
      ],
      "text/plain": [
       "[1] \"integer\""
      ]
     },
     "execution_count": 50,
     "metadata": {},
     "output_type": "execute_result"
    }
   ],
   "source": [
    "typeof(z$value)"
   ]
  },
  {
   "cell_type": "code",
   "execution_count": 52,
   "metadata": {
    "collapsed": false
   },
   "outputs": [
    {
     "data": {
      "text/html": [
       "<ol class=list-inline>\n",
       "\t<li>3</li>\n",
       "\t<li>2</li>\n",
       "\t<li>1</li>\n",
       "\t<li>4</li>\n",
       "</ol>\n"
      ],
      "text/latex": [
       "\\begin{enumerate*}\n",
       "\\item 3\n",
       "\\item 2\n",
       "\\item 1\n",
       "\\item 4\n",
       "\\end{enumerate*}\n"
      ],
      "text/markdown": [
       "1. 3\n",
       "2. 2\n",
       "3. 1\n",
       "4. 4\n",
       "\n",
       "\n"
      ],
      "text/plain": [
       "[1] 3 2 1 4"
      ]
     },
     "execution_count": 52,
     "metadata": {},
     "output_type": "execute_result"
    }
   ],
   "source": [
    "as.double(z$value)"
   ]
  },
  {
   "cell_type": "code",
   "execution_count": 53,
   "metadata": {
    "collapsed": false
   },
   "outputs": [
    {
     "data": {
      "text/html": [
       "\"factor\""
      ],
      "text/latex": [
       "\"factor\""
      ],
      "text/markdown": [
       "\"factor\""
      ],
      "text/plain": [
       "[1] \"factor\""
      ]
     },
     "execution_count": 53,
     "metadata": {},
     "output_type": "execute_result"
    }
   ],
   "source": [
    "class(z$value)"
   ]
  },
  {
   "cell_type": "code",
   "execution_count": 55,
   "metadata": {
    "collapsed": false
   },
   "outputs": [
    {
     "name": "stderr",
     "output_type": "stream",
     "text": [
      "Warning message:\n",
      "In eval(expr, envir, enclos): 강제형변환에 의해 생성된 NA 입니다"
     ]
    },
    {
     "data": {
      "text/html": [
       "<ol class=list-inline>\n",
       "\t<li>12</li>\n",
       "\t<li>1</li>\n",
       "\t<li>NA</li>\n",
       "\t<li>9</li>\n",
       "</ol>\n"
      ],
      "text/latex": [
       "\\begin{enumerate*}\n",
       "\\item 12\n",
       "\\item 1\n",
       "\\item NA\n",
       "\\item 9\n",
       "\\end{enumerate*}\n"
      ],
      "text/markdown": [
       "1. 12\n",
       "2. 1\n",
       "3. NA\n",
       "4. 9\n",
       "\n",
       "\n"
      ],
      "text/plain": [
       "[1] 12  1 NA  9"
      ]
     },
     "execution_count": 55,
     "metadata": {},
     "output_type": "execute_result"
    }
   ],
   "source": [
    "as.double(as.character(z$value))"
   ]
  },
  {
   "cell_type": "code",
   "execution_count": 56,
   "metadata": {
    "collapsed": false
   },
   "outputs": [
    {
     "data": {
      "text/html": [
       "\"integer\""
      ],
      "text/latex": [
       "\"integer\""
      ],
      "text/markdown": [
       "\"integer\""
      ],
      "text/plain": [
       "[1] \"integer\""
      ]
     },
     "execution_count": 56,
     "metadata": {},
     "output_type": "execute_result"
    }
   ],
   "source": [
    "z <- read.csv(text = \"value\\n12\\n1\\n.\\n9\", na.strings=\".\")\n",
    "typeof(z$value)"
   ]
  },
  {
   "cell_type": "code",
   "execution_count": 57,
   "metadata": {
    "collapsed": false
   },
   "outputs": [
    {
     "data": {
      "text/html": [
       "\"integer\""
      ],
      "text/latex": [
       "\"integer\""
      ],
      "text/markdown": [
       "\"integer\""
      ],
      "text/plain": [
       "[1] \"integer\""
      ]
     },
     "execution_count": 57,
     "metadata": {},
     "output_type": "execute_result"
    }
   ],
   "source": [
    "class(z$value)"
   ]
  },
  {
   "cell_type": "code",
   "execution_count": 58,
   "metadata": {
    "collapsed": false
   },
   "outputs": [
    {
     "data": {
      "text/html": [
       "<ol class=list-inline>\n",
       "\t<li>12</li>\n",
       "\t<li>1</li>\n",
       "\t<li>NA</li>\n",
       "\t<li>9</li>\n",
       "</ol>\n"
      ],
      "text/latex": [
       "\\begin{enumerate*}\n",
       "\\item 12\n",
       "\\item 1\n",
       "\\item NA\n",
       "\\item 9\n",
       "\\end{enumerate*}\n"
      ],
      "text/markdown": [
       "1. 12\n",
       "2. 1\n",
       "3. NA\n",
       "4. 9\n",
       "\n",
       "\n"
      ],
      "text/plain": [
       "[1] 12  1 NA  9"
      ]
     },
     "execution_count": 58,
     "metadata": {},
     "output_type": "execute_result"
    }
   ],
   "source": [
    "z$value"
   ]
  },
  {
   "cell_type": "markdown",
   "metadata": {},
   "source": [
    "- Unfortunately, most data loading functions in R automatically convert character vectors to factors. \n",
    "\n",
    "- This is suboptimal, because there’s no way for those functions to know the set of all possible levels or their optimal order. \n",
    "\n",
    "- Instead, use the argument stringsAsFactors = FALSE to suppress this behaviour, and then manually convert character vectors to factors using your knowledge of the data. \n",
    "\n",
    "- A global option, options(stringsAsFactors = FALSE), is available to control this behaviour, but I don’t recommend using it. Changing a global option may have unexpected consequences when combined with other code (either from packages, or code that you’re source()ing), and global options make code harder to understand because they increase the number of lines you need to read to understand how a single line of code will behave.\n",
    "\n",
    "- While factors look (and often behave) like character vectors, they are actually integers. Be careful when treating them like strings. Some string methods (like gsub() and grepl()) will coerce factors to strings, while others (like nchar()) will throw an error, and still others (like c()) will use the underlying integer values. For this reason, it’s usually best to explicitly convert factors to character vectors if you need string-like behaviour. In early versions of R, there was a memory advantage to using factors instead of character vectors, but this is no longer the case."
   ]
  },
  {
   "cell_type": "markdown",
   "metadata": {},
   "source": [
    "## Matrices and arrays\n",
    "- Adding a dim() attribute to an atomic vector allows it to behave like a multi-dimensional array. A special case of the array is the matrix, which has two dimensions. Matrices are used commonly as part of the mathematical machinery of statistics. Arrays are much rarer, but worth being aware of.\n",
    "\n",
    "- Matrices and arrays are created with matrix() and array(), or by using the assignment form of dim():"
   ]
  },
  {
   "cell_type": "code",
   "execution_count": 61,
   "metadata": {
    "collapsed": true
   },
   "outputs": [],
   "source": [
    "# Two scalar arguments to specify rows and columns\n",
    "a <- matrix(1:6, ncol = 3, nrow = 2)\n",
    "# One vector argument to describe all dimensions\n",
    "b <- array(1:12, c(2, 3, 2))"
   ]
  },
  {
   "cell_type": "code",
   "execution_count": 62,
   "metadata": {
    "collapsed": false
   },
   "outputs": [
    {
     "data": {
      "text/html": [
       "<table>\n",
       "<tbody>\n",
       "\t<tr><td>1</td><td>3</td><td>5</td></tr>\n",
       "\t<tr><td>2</td><td>4</td><td>6</td></tr>\n",
       "</tbody>\n",
       "</table>\n"
      ],
      "text/latex": [
       "\\begin{tabular}{lll}\n",
       "\t 1 & 3 & 5\\\\\n",
       "\t 2 & 4 & 6\\\\\n",
       "\\end{tabular}\n"
      ],
      "text/markdown": [
       "1. 1\n",
       "2. 2\n",
       "3. 3\n",
       "4. 4\n",
       "5. 5\n",
       "6. 6\n",
       "\n",
       "\n"
      ],
      "text/plain": [
       "     [,1] [,2] [,3]\n",
       "[1,]    1    3    5\n",
       "[2,]    2    4    6"
      ]
     },
     "execution_count": 62,
     "metadata": {},
     "output_type": "execute_result"
    },
    {
     "data": {
      "text/html": [
       "<ol class=list-inline>\n",
       "\t<li>1</li>\n",
       "\t<li>2</li>\n",
       "\t<li>3</li>\n",
       "\t<li>4</li>\n",
       "\t<li>5</li>\n",
       "\t<li>6</li>\n",
       "\t<li>7</li>\n",
       "\t<li>8</li>\n",
       "\t<li>9</li>\n",
       "\t<li>10</li>\n",
       "\t<li>11</li>\n",
       "\t<li>12</li>\n",
       "</ol>\n"
      ],
      "text/latex": [
       "\\begin{enumerate*}\n",
       "\\item 1\n",
       "\\item 2\n",
       "\\item 3\n",
       "\\item 4\n",
       "\\item 5\n",
       "\\item 6\n",
       "\\item 7\n",
       "\\item 8\n",
       "\\item 9\n",
       "\\item 10\n",
       "\\item 11\n",
       "\\item 12\n",
       "\\end{enumerate*}\n"
      ],
      "text/markdown": [
       "1. 1\n",
       "2. 2\n",
       "3. 3\n",
       "4. 4\n",
       "5. 5\n",
       "6. 6\n",
       "7. 7\n",
       "8. 8\n",
       "9. 9\n",
       "10. 10\n",
       "11. 11\n",
       "12. 12\n",
       "\n",
       "\n"
      ],
      "text/plain": [
       ", , 1\n",
       "\n",
       "     [,1] [,2] [,3]\n",
       "[1,]    1    3    5\n",
       "[2,]    2    4    6\n",
       "\n",
       ", , 2\n",
       "\n",
       "     [,1] [,2] [,3]\n",
       "[1,]    7    9   11\n",
       "[2,]    8   10   12\n"
      ]
     },
     "execution_count": 62,
     "metadata": {},
     "output_type": "execute_result"
    }
   ],
   "source": [
    "a\n",
    "b"
   ]
  },
  {
   "cell_type": "code",
   "execution_count": 63,
   "metadata": {
    "collapsed": true
   },
   "outputs": [],
   "source": [
    "c <- 1:6\n",
    "dim(c) <- c(3, 2)"
   ]
  },
  {
   "cell_type": "code",
   "execution_count": 64,
   "metadata": {
    "collapsed": false
   },
   "outputs": [
    {
     "data": {
      "text/html": [
       "<table>\n",
       "<tbody>\n",
       "\t<tr><td>1</td><td>4</td></tr>\n",
       "\t<tr><td>2</td><td>5</td></tr>\n",
       "\t<tr><td>3</td><td>6</td></tr>\n",
       "</tbody>\n",
       "</table>\n"
      ],
      "text/latex": [
       "\\begin{tabular}{ll}\n",
       "\t 1 & 4\\\\\n",
       "\t 2 & 5\\\\\n",
       "\t 3 & 6\\\\\n",
       "\\end{tabular}\n"
      ],
      "text/markdown": [
       "1. 1\n",
       "2. 2\n",
       "3. 3\n",
       "4. 4\n",
       "5. 5\n",
       "6. 6\n",
       "\n",
       "\n"
      ],
      "text/plain": [
       "     [,1] [,2]\n",
       "[1,]    1    4\n",
       "[2,]    2    5\n",
       "[3,]    3    6"
      ]
     },
     "execution_count": 64,
     "metadata": {},
     "output_type": "execute_result"
    }
   ],
   "source": [
    "c"
   ]
  },
  {
   "cell_type": "code",
   "execution_count": 65,
   "metadata": {
    "collapsed": true
   },
   "outputs": [],
   "source": [
    "dim(c) <- c(2, 3)"
   ]
  },
  {
   "cell_type": "code",
   "execution_count": 66,
   "metadata": {
    "collapsed": false
   },
   "outputs": [
    {
     "data": {
      "text/html": [
       "<table>\n",
       "<tbody>\n",
       "\t<tr><td>1</td><td>3</td><td>5</td></tr>\n",
       "\t<tr><td>2</td><td>4</td><td>6</td></tr>\n",
       "</tbody>\n",
       "</table>\n"
      ],
      "text/latex": [
       "\\begin{tabular}{lll}\n",
       "\t 1 & 3 & 5\\\\\n",
       "\t 2 & 4 & 6\\\\\n",
       "\\end{tabular}\n"
      ],
      "text/markdown": [
       "1. 1\n",
       "2. 2\n",
       "3. 3\n",
       "4. 4\n",
       "5. 5\n",
       "6. 6\n",
       "\n",
       "\n"
      ],
      "text/plain": [
       "     [,1] [,2] [,3]\n",
       "[1,]    1    3    5\n",
       "[2,]    2    4    6"
      ]
     },
     "execution_count": 66,
     "metadata": {},
     "output_type": "execute_result"
    }
   ],
   "source": [
    "c"
   ]
  },
  {
   "cell_type": "markdown",
   "metadata": {},
   "source": [
    "- length() and names() have high-dimensional generalisations:\n",
    "\n",
    "- length() generalises to nrow() and ncol() for matrices, and dim() for arrays.\n",
    "\n",
    "- names() generalises to rownames() and colnames() for matrices, and dimnames(), a list of character vectors, for arrays."
   ]
  },
  {
   "cell_type": "code",
   "execution_count": 67,
   "metadata": {
    "collapsed": false
   },
   "outputs": [
    {
     "data": {
      "text/html": [
       "6"
      ],
      "text/latex": [
       "6"
      ],
      "text/markdown": [
       "6"
      ],
      "text/plain": [
       "[1] 6"
      ]
     },
     "execution_count": 67,
     "metadata": {},
     "output_type": "execute_result"
    }
   ],
   "source": [
    "length(a)\n",
    "#> [1] 6"
   ]
  },
  {
   "cell_type": "code",
   "execution_count": 68,
   "metadata": {
    "collapsed": false
   },
   "outputs": [
    {
     "data": {
      "text/html": [
       "2"
      ],
      "text/latex": [
       "2"
      ],
      "text/markdown": [
       "2"
      ],
      "text/plain": [
       "[1] 2"
      ]
     },
     "execution_count": 68,
     "metadata": {},
     "output_type": "execute_result"
    }
   ],
   "source": [
    "nrow(a)\n",
    "#> [1] 2"
   ]
  },
  {
   "cell_type": "code",
   "execution_count": 69,
   "metadata": {
    "collapsed": false
   },
   "outputs": [
    {
     "data": {
      "text/html": [
       "3"
      ],
      "text/latex": [
       "3"
      ],
      "text/markdown": [
       "3"
      ],
      "text/plain": [
       "[1] 3"
      ]
     },
     "execution_count": 69,
     "metadata": {},
     "output_type": "execute_result"
    }
   ],
   "source": [
    "ncol(a)\n",
    "#> [1] 3"
   ]
  },
  {
   "cell_type": "code",
   "execution_count": 70,
   "metadata": {
    "collapsed": true
   },
   "outputs": [],
   "source": [
    "rownames(a) <- c(\"A\", \"B\")\n",
    "colnames(a) <- c(\"a\", \"b\", \"c\")"
   ]
  },
  {
   "cell_type": "code",
   "execution_count": 71,
   "metadata": {
    "collapsed": false
   },
   "outputs": [
    {
     "data": {
      "text/html": [
       "<table>\n",
       "<thead><tr><th></th><th scope=col>a</th><th scope=col>b</th><th scope=col>c</th></tr></thead>\n",
       "<tbody>\n",
       "\t<tr><th scope=row>A</th><td>1</td><td>3</td><td>5</td></tr>\n",
       "\t<tr><th scope=row>B</th><td>2</td><td>4</td><td>6</td></tr>\n",
       "</tbody>\n",
       "</table>\n"
      ],
      "text/latex": [
       "\\begin{tabular}{r|lll}\n",
       "  & a & b & c\\\\\n",
       "\\hline\n",
       "\tA & 1 & 3 & 5\\\\\n",
       "\tB & 2 & 4 & 6\\\\\n",
       "\\end{tabular}\n"
      ],
      "text/markdown": [
       "1. 1\n",
       "2. 2\n",
       "3. 3\n",
       "4. 4\n",
       "5. 5\n",
       "6. 6\n",
       "\n",
       "\n"
      ],
      "text/plain": [
       "  a b c\n",
       "A 1 3 5\n",
       "B 2 4 6"
      ]
     },
     "execution_count": 71,
     "metadata": {},
     "output_type": "execute_result"
    }
   ],
   "source": [
    "a"
   ]
  },
  {
   "cell_type": "code",
   "execution_count": 72,
   "metadata": {
    "collapsed": false
   },
   "outputs": [
    {
     "data": {
      "text/html": [
       "12"
      ],
      "text/latex": [
       "12"
      ],
      "text/markdown": [
       "12"
      ],
      "text/plain": [
       "[1] 12"
      ]
     },
     "execution_count": 72,
     "metadata": {},
     "output_type": "execute_result"
    },
    {
     "data": {
      "text/html": [
       "<ol class=list-inline>\n",
       "\t<li>2</li>\n",
       "\t<li>3</li>\n",
       "\t<li>2</li>\n",
       "</ol>\n"
      ],
      "text/latex": [
       "\\begin{enumerate*}\n",
       "\\item 2\n",
       "\\item 3\n",
       "\\item 2\n",
       "\\end{enumerate*}\n"
      ],
      "text/markdown": [
       "1. 2\n",
       "2. 3\n",
       "3. 2\n",
       "\n",
       "\n"
      ],
      "text/plain": [
       "[1] 2 3 2"
      ]
     },
     "execution_count": 72,
     "metadata": {},
     "output_type": "execute_result"
    }
   ],
   "source": [
    "length(b)\n",
    "#> [1] 12\n",
    "dim(b)\n",
    "#> [1] 2 3 2"
   ]
  },
  {
   "cell_type": "code",
   "execution_count": 74,
   "metadata": {
    "collapsed": false
   },
   "outputs": [
    {
     "data": {
      "text/html": [
       "<ol class=list-inline>\n",
       "\t<li>1</li>\n",
       "\t<li>2</li>\n",
       "\t<li>3</li>\n",
       "\t<li>4</li>\n",
       "\t<li>5</li>\n",
       "\t<li>6</li>\n",
       "\t<li>7</li>\n",
       "\t<li>8</li>\n",
       "\t<li>9</li>\n",
       "\t<li>10</li>\n",
       "\t<li>11</li>\n",
       "\t<li>12</li>\n",
       "</ol>\n"
      ],
      "text/latex": [
       "\\begin{enumerate*}\n",
       "\\item 1\n",
       "\\item 2\n",
       "\\item 3\n",
       "\\item 4\n",
       "\\item 5\n",
       "\\item 6\n",
       "\\item 7\n",
       "\\item 8\n",
       "\\item 9\n",
       "\\item 10\n",
       "\\item 11\n",
       "\\item 12\n",
       "\\end{enumerate*}\n"
      ],
      "text/markdown": [
       "1. 1\n",
       "2. 2\n",
       "3. 3\n",
       "4. 4\n",
       "5. 5\n",
       "6. 6\n",
       "7. 7\n",
       "8. 8\n",
       "9. 9\n",
       "10. 10\n",
       "11. 11\n",
       "12. 12\n",
       "\n",
       "\n"
      ],
      "text/plain": [
       ", , A\n",
       "\n",
       "    a b c\n",
       "one 1 3 5\n",
       "two 2 4 6\n",
       "\n",
       ", , B\n",
       "\n",
       "    a  b  c\n",
       "one 7  9 11\n",
       "two 8 10 12\n"
      ]
     },
     "execution_count": 74,
     "metadata": {},
     "output_type": "execute_result"
    }
   ],
   "source": [
    "dimnames(b) <- list(c(\"one\", \"two\"), c(\"a\", \"b\", \"c\"), c(\"A\", \"B\"))\n",
    "b\n",
    "#jupyter... her"
   ]
  },
  {
   "cell_type": "markdown",
   "metadata": {},
   "source": [
    "- c() generalises to cbind() and rbind() for matrices, and to abind() (provided by the abind package) for arrays. You can transpose a matrix with t(); the generalised equivalent for arrays is aperm().\n",
    "\n",
    "- You can test if an object is a matrix or array using is.matrix() and is.array(), or by looking at the length of the dim(). as.matrix() and as.array() make it easy to turn an existing vector into a matrix or array.\n",
    "\n",
    "- Vectors are not the only 1-dimensional data structure. You can have matrices with a single row or single column, or arrays with a single dimension. They may print similarly, but will behave differently. The differences aren’t too important, but it’s useful to know they exist in case you get strange output from a function (tapply() is a frequent offender). As always, use str() to reveal the differences."
   ]
  },
  {
   "cell_type": "code",
   "execution_count": 75,
   "metadata": {
    "collapsed": false
   },
   "outputs": [
    {
     "data": {
      "text/html": [
       "\n",
       "<table width=\"100%\" summary=\"page for tapply {base}\"><tr><td>tapply {base}</td><td align=\"right\">R Documentation</td></tr></table>\n",
       "\n",
       "<h2>Apply a Function Over a Ragged Array</h2>\n",
       "\n",
       "<h3>Description</h3>\n",
       "\n",
       "<p>Apply a function to each cell of a ragged array, that is to each\n",
       "(non-empty) group of values given by a unique combination of the\n",
       "levels of certain factors.\n",
       "</p>\n",
       "\n",
       "\n",
       "<h3>Usage</h3>\n",
       "\n",
       "<pre>\n",
       "tapply(X, INDEX, FUN = NULL, ..., simplify = TRUE)\n",
       "</pre>\n",
       "\n",
       "\n",
       "<h3>Arguments</h3>\n",
       "\n",
       "<table summary=\"R argblock\">\n",
       "<tr valign=\"top\"><td><code>X</code></td>\n",
       "<td>\n",
       "<p>an atomic object, typically a vector.</p>\n",
       "</td></tr>\n",
       "<tr valign=\"top\"><td><code>INDEX</code></td>\n",
       "<td>\n",
       "<p>list of one or more factors, each of same length as\n",
       "<code>X</code>.  The elements are coerced to factors by <code>as.factor</code>.</p>\n",
       "</td></tr>\n",
       "<tr valign=\"top\"><td><code>FUN</code></td>\n",
       "<td>\n",
       "<p>the function to be applied, or <code>NULL</code>.  In the case of\n",
       "functions like <code>+</code>, <code>%*%</code>, etc., the function name must\n",
       "be backquoted or quoted.  If <code>FUN</code> is <code>NULL</code>, tapply\n",
       "returns a vector which can be used to subscript the multi-way array\n",
       "<code>tapply</code> normally produces.</p>\n",
       "</td></tr>\n",
       "<tr valign=\"top\"><td><code>...</code></td>\n",
       "<td>\n",
       "<p>optional arguments to <code>FUN</code>: the Note section.</p>\n",
       "</td></tr>\n",
       "<tr valign=\"top\"><td><code>simplify</code></td>\n",
       "<td>\n",
       "<p>If <code>FALSE</code>, <code>tapply</code> always returns an array\n",
       "of mode <code>\"list\"</code>.  If <code>TRUE</code> (the default), then if\n",
       "<code>FUN</code> always returns a scalar, <code>tapply</code> returns an array\n",
       "with the mode of the scalar.</p>\n",
       "</td></tr>\n",
       "</table>\n",
       "\n",
       "\n",
       "<h3>Value</h3>\n",
       "\n",
       "<p>If <code>FUN</code> is not <code>NULL</code>, it is passed to\n",
       "<code>match.fun</code>, and hence it can be a function or a symbol or\n",
       "character string naming a function.\n",
       "</p>\n",
       "<p>When <code>FUN</code> is present, <code>tapply</code> calls <code>FUN</code> for each\n",
       "cell that has any data in it.  If <code>FUN</code> returns a single atomic\n",
       "value for each such cell (e.g., functions <code>mean</code> or <code>var</code>)\n",
       "and when <code>simplify</code> is <code>TRUE</code>, <code>tapply</code> returns a\n",
       "multi-way array containing the values, and <code>NA</code> for the\n",
       "empty cells.  The array has the same number of dimensions as\n",
       "<code>INDEX</code> has components; the number of levels in a dimension is\n",
       "the number of levels (<code>nlevels()</code>) in the corresponding component\n",
       "of <code>INDEX</code>.  Note that if the return value has a class (e.g., an\n",
       "object of class <code>\"Date\"</code>) the class is discarded.\n",
       "</p>\n",
       "<p>Note that contrary to S, <code>simplify = TRUE</code> always returns an\n",
       "array, possibly 1-dimensional.\n",
       "</p>\n",
       "<p>If <code>FUN</code> does not return a single atomic value, <code>tapply</code>\n",
       "returns an array of mode <code>list</code> whose components are the\n",
       "values of the individual calls to <code>FUN</code>, i.e., the result is a\n",
       "list with a <code>dim</code> attribute.\n",
       "</p>\n",
       "<p>When there is an array answer, its <code>dimnames</code> are named by\n",
       "the names of <code>INDEX</code> and are based on the levels of the grouping\n",
       "factors (possibly after coercion).\n",
       "</p>\n",
       "<p>For a list result, the elements corresponding to empty cells are\n",
       "<code>NULL</code>.\n",
       "</p>\n",
       "\n",
       "\n",
       "<h3>Note</h3>\n",
       "\n",
       "<p>Optional arguments to <code>FUN</code> supplied by the <code>...</code> argument\n",
       "are not divided into cells.  It is therefore inappropriate for\n",
       "<code>FUN</code> to expect additional arguments with the same length as\n",
       "<code>X</code>.\n",
       "</p>\n",
       "\n",
       "\n",
       "<h3>References</h3>\n",
       "\n",
       "<p>Becker, R. A., Chambers, J. M. and Wilks, A. R. (1988)\n",
       "<EM>The New S Language</EM>.\n",
       "Wadsworth &amp; Brooks/Cole.\n",
       "</p>\n",
       "\n",
       "\n",
       "<h3>See Also</h3>\n",
       "\n",
       "<p>the convenience functions <code>by</code> and\n",
       "<code>aggregate</code> (using <code>tapply</code>);\n",
       "<code>apply</code>,\n",
       "<code>lapply</code> with its versions\n",
       "<code>sapply</code> and <code>mapply</code>.\n",
       "</p>\n",
       "\n",
       "\n",
       "<h3>Examples</h3>\n",
       "\n",
       "<pre>\n",
       "require(stats)\n",
       "groups &lt;- as.factor(rbinom(32, n = 5, prob = 0.4))\n",
       "tapply(groups, groups, length) #- is almost the same as\n",
       "table(groups)\n",
       "\n",
       "## contingency table from data.frame : array with named dimnames\n",
       "tapply(warpbreaks$breaks, warpbreaks[,-1], sum)\n",
       "tapply(warpbreaks$breaks, warpbreaks[, 3, drop = FALSE], sum)\n",
       "\n",
       "n &lt;- 17; fac &lt;- factor(rep(1:3, length = n), levels = 1:5)\n",
       "table(fac)\n",
       "tapply(1:n, fac, sum)\n",
       "tapply(1:n, fac, sum, simplify = FALSE)\n",
       "tapply(1:n, fac, range)\n",
       "tapply(1:n, fac, quantile)\n",
       "\n",
       "## example of ... argument: find quarterly means\n",
       "tapply(presidents, cycle(presidents), mean, na.rm = TRUE)\n",
       "\n",
       "ind &lt;- list(c(1, 2, 2), c(\"A\", \"A\", \"B\"))\n",
       "table(ind)\n",
       "tapply(1:3, ind) #-&gt; the split vector\n",
       "tapply(1:3, ind, sum)\n",
       "</pre>\n",
       "\n",
       "<hr><div align=\"center\">[Package <em>base</em> version 3.1.3 ]</div>"
      ],
      "text/latex": [
       "\\inputencoding{utf8}\n",
       "\\HeaderA{tapply}{Apply a Function Over a Ragged Array}{tapply}\n",
       "\\keyword{iteration}{tapply}\n",
       "\\keyword{category}{tapply}\n",
       "%\n",
       "\\begin{Description}\\relax\n",
       "Apply a function to each cell of a ragged array, that is to each\n",
       "(non-empty) group of values given by a unique combination of the\n",
       "levels of certain factors.\n",
       "\\end{Description}\n",
       "%\n",
       "\\begin{Usage}\n",
       "\\begin{verbatim}\n",
       "tapply(X, INDEX, FUN = NULL, ..., simplify = TRUE)\n",
       "\\end{verbatim}\n",
       "\\end{Usage}\n",
       "%\n",
       "\\begin{Arguments}\n",
       "\\begin{ldescription}\n",
       "\\item[\\code{X}] an atomic object, typically a vector.\n",
       "\\item[\\code{INDEX}] list of one or more factors, each of same length as\n",
       "\\code{X}.  The elements are coerced to factors by \\code{\\LinkA{as.factor}{as.factor}}.\n",
       "\\item[\\code{FUN}] the function to be applied, or \\code{NULL}.  In the case of\n",
       "functions like \\code{+}, \\code{\\%*\\%}, etc., the function name must\n",
       "be backquoted or quoted.  If \\code{FUN} is \\code{NULL}, tapply\n",
       "returns a vector which can be used to subscript the multi-way array\n",
       "\\code{tapply} normally produces.\n",
       "\\item[\\code{...}] optional arguments to \\code{FUN}: the Note section.\n",
       "\\item[\\code{simplify}] If \\code{FALSE}, \\code{tapply} always returns an array\n",
       "of mode \\code{\"list\"}.  If \\code{TRUE} (the default), then if\n",
       "\\code{FUN} always returns a scalar, \\code{tapply} returns an array\n",
       "with the mode of the scalar.\n",
       "\\end{ldescription}\n",
       "\\end{Arguments}\n",
       "%\n",
       "\\begin{Value}\n",
       "If \\code{FUN} is not \\code{NULL}, it is passed to\n",
       "\\code{\\LinkA{match.fun}{match.fun}}, and hence it can be a function or a symbol or\n",
       "character string naming a function.\n",
       "\n",
       "When \\code{FUN} is present, \\code{tapply} calls \\code{FUN} for each\n",
       "cell that has any data in it.  If \\code{FUN} returns a single atomic\n",
       "value for each such cell (e.g., functions \\code{mean} or \\code{var})\n",
       "and when \\code{simplify} is \\code{TRUE}, \\code{tapply} returns a\n",
       "multi-way \\LinkA{array}{array} containing the values, and \\code{NA} for the\n",
       "empty cells.  The array has the same number of dimensions as\n",
       "\\code{INDEX} has components; the number of levels in a dimension is\n",
       "the number of levels (\\code{nlevels()}) in the corresponding component\n",
       "of \\code{INDEX}.  Note that if the return value has a class (e.g., an\n",
       "object of class \\code{\"\\LinkA{Date}{Date}\"}) the class is discarded.\n",
       "\n",
       "Note that contrary to S, \\code{simplify = TRUE} always returns an\n",
       "array, possibly 1-dimensional.\n",
       "\n",
       "If \\code{FUN} does not return a single atomic value, \\code{tapply}\n",
       "returns an array of mode \\code{\\LinkA{list}{list}} whose components are the\n",
       "values of the individual calls to \\code{FUN}, i.e., the result is a\n",
       "list with a \\code{\\LinkA{dim}{dim}} attribute.\n",
       "\n",
       "When there is an array answer, its \\code{\\LinkA{dimnames}{dimnames}} are named by\n",
       "the names of \\code{INDEX} and are based on the levels of the grouping\n",
       "factors (possibly after coercion).\n",
       "\n",
       "For a list result, the elements corresponding to empty cells are\n",
       "\\code{NULL}.\n",
       "\\end{Value}\n",
       "%\n",
       "\\begin{Note}\\relax\n",
       "Optional arguments to \\code{FUN} supplied by the \\code{...} argument\n",
       "are not divided into cells.  It is therefore inappropriate for\n",
       "\\code{FUN} to expect additional arguments with the same length as\n",
       "\\code{X}.\n",
       "\\end{Note}\n",
       "%\n",
       "\\begin{References}\\relax\n",
       "Becker, R. A., Chambers, J. M. and Wilks, A. R. (1988)\n",
       "\\emph{The New S Language}.\n",
       "Wadsworth \\& Brooks/Cole.\n",
       "\\end{References}\n",
       "%\n",
       "\\begin{SeeAlso}\\relax\n",
       "the convenience functions \\code{\\LinkA{by}{by}} and\n",
       "\\code{\\LinkA{aggregate}{aggregate}} (using \\code{tapply});\n",
       "\\code{\\LinkA{apply}{apply}},\n",
       "\\code{\\LinkA{lapply}{lapply}} with its versions\n",
       "\\code{\\LinkA{sapply}{sapply}} and \\code{\\LinkA{mapply}{mapply}}.\n",
       "\\end{SeeAlso}\n",
       "%\n",
       "\\begin{Examples}\n",
       "\\begin{ExampleCode}\n",
       "require(stats)\n",
       "groups <- as.factor(rbinom(32, n = 5, prob = 0.4))\n",
       "tapply(groups, groups, length) #- is almost the same as\n",
       "table(groups)\n",
       "\n",
       "## contingency table from data.frame : array with named dimnames\n",
       "tapply(warpbreaks$breaks, warpbreaks[,-1], sum)\n",
       "tapply(warpbreaks$breaks, warpbreaks[, 3, drop = FALSE], sum)\n",
       "\n",
       "n <- 17; fac <- factor(rep(1:3, length = n), levels = 1:5)\n",
       "table(fac)\n",
       "tapply(1:n, fac, sum)\n",
       "tapply(1:n, fac, sum, simplify = FALSE)\n",
       "tapply(1:n, fac, range)\n",
       "tapply(1:n, fac, quantile)\n",
       "\n",
       "## example of ... argument: find quarterly means\n",
       "tapply(presidents, cycle(presidents), mean, na.rm = TRUE)\n",
       "\n",
       "ind <- list(c(1, 2, 2), c(\"A\", \"A\", \"B\"))\n",
       "table(ind)\n",
       "tapply(1:3, ind) #-> the split vector\n",
       "tapply(1:3, ind, sum)\n",
       "\\end{ExampleCode}\n",
       "\\end{Examples}"
      ],
      "text/plain": [
       "tapply                  package:base                   R Documentation\n",
       "\n",
       "_\bA_\bp_\bp_\bl_\by _\ba _\bF_\bu_\bn_\bc_\bt_\bi_\bo_\bn _\bO_\bv_\be_\br _\ba _\bR_\ba_\bg_\bg_\be_\bd _\bA_\br_\br_\ba_\by\n",
       "\n",
       "_\bD_\be_\bs_\bc_\br_\bi_\bp_\bt_\bi_\bo_\bn:\n",
       "\n",
       "     Apply a function to each cell of a ragged array, that is to each\n",
       "     (non-empty) group of values given by a unique combination of the\n",
       "     levels of certain factors.\n",
       "\n",
       "_\bU_\bs_\ba_\bg_\be:\n",
       "\n",
       "     tapply(X, INDEX, FUN = NULL, ..., simplify = TRUE)\n",
       "     \n",
       "_\bA_\br_\bg_\bu_\bm_\be_\bn_\bt_\bs:\n",
       "\n",
       "       X: an atomic object, typically a vector.\n",
       "\n",
       "   INDEX: list of one or more factors, each of same length as 'X'.  The\n",
       "          elements are coerced to factors by 'as.factor'.\n",
       "\n",
       "     FUN: the function to be applied, or 'NULL'.  In the case of\n",
       "          functions like '+', '%*%', etc., the function name must be\n",
       "          backquoted or quoted.  If 'FUN' is 'NULL', tapply returns a\n",
       "          vector which can be used to subscript the multi-way array\n",
       "          'tapply' normally produces.\n",
       "\n",
       "     ...: optional arguments to 'FUN': the Note section.\n",
       "\n",
       "simplify: If 'FALSE', 'tapply' always returns an array of mode\n",
       "          '\"list\"'.  If 'TRUE' (the default), then if 'FUN' always\n",
       "          returns a scalar, 'tapply' returns an array with the mode of\n",
       "          the scalar.\n",
       "\n",
       "_\bV_\ba_\bl_\bu_\be:\n",
       "\n",
       "     If 'FUN' is not 'NULL', it is passed to 'match.fun', and hence it\n",
       "     can be a function or a symbol or character string naming a\n",
       "     function.\n",
       "\n",
       "     When 'FUN' is present, 'tapply' calls 'FUN' for each cell that has\n",
       "     any data in it.  If 'FUN' returns a single atomic value for each\n",
       "     such cell (e.g., functions 'mean' or 'var') and when 'simplify' is\n",
       "     'TRUE', 'tapply' returns a multi-way array containing the values,\n",
       "     and 'NA' for the empty cells.  The array has the same number of\n",
       "     dimensions as 'INDEX' has components; the number of levels in a\n",
       "     dimension is the number of levels ('nlevels()') in the\n",
       "     corresponding component of 'INDEX'.  Note that if the return value\n",
       "     has a class (e.g., an object of class '\"Date\"') the class is\n",
       "     discarded.\n",
       "\n",
       "     Note that contrary to S, 'simplify = TRUE' always returns an\n",
       "     array, possibly 1-dimensional.\n",
       "\n",
       "     If 'FUN' does not return a single atomic value, 'tapply' returns\n",
       "     an array of mode 'list' whose components are the values of the\n",
       "     individual calls to 'FUN', i.e., the result is a list with a 'dim'\n",
       "     attribute.\n",
       "\n",
       "     When there is an array answer, its 'dimnames' are named by the\n",
       "     names of 'INDEX' and are based on the levels of the grouping\n",
       "     factors (possibly after coercion).\n",
       "\n",
       "     For a list result, the elements corresponding to empty cells are\n",
       "     'NULL'.\n",
       "\n",
       "_\bN_\bo_\bt_\be:\n",
       "\n",
       "     Optional arguments to 'FUN' supplied by the '...' argument are not\n",
       "     divided into cells.  It is therefore inappropriate for 'FUN' to\n",
       "     expect additional arguments with the same length as 'X'.\n",
       "\n",
       "_\bR_\be_\bf_\be_\br_\be_\bn_\bc_\be_\bs:\n",
       "\n",
       "     Becker, R. A., Chambers, J. M. and Wilks, A. R. (1988) _The New S\n",
       "     Language_.  Wadsworth & Brooks/Cole.\n",
       "\n",
       "_\bS_\be_\be _\bA_\bl_\bs_\bo:\n",
       "\n",
       "     the convenience functions 'by' and 'aggregate' (using 'tapply');\n",
       "     'apply', 'lapply' with its versions 'sapply' and 'mapply'.\n",
       "\n",
       "_\bE_\bx_\ba_\bm_\bp_\bl_\be_\bs:\n",
       "\n",
       "     require(stats)\n",
       "     groups <- as.factor(rbinom(32, n = 5, prob = 0.4))\n",
       "     tapply(groups, groups, length) #- is almost the same as\n",
       "     table(groups)\n",
       "     \n",
       "     ## contingency table from data.frame : array with named dimnames\n",
       "     tapply(warpbreaks$breaks, warpbreaks[,-1], sum)\n",
       "     tapply(warpbreaks$breaks, warpbreaks[, 3, drop = FALSE], sum)\n",
       "     \n",
       "     n <- 17; fac <- factor(rep(1:3, length = n), levels = 1:5)\n",
       "     table(fac)\n",
       "     tapply(1:n, fac, sum)\n",
       "     tapply(1:n, fac, sum, simplify = FALSE)\n",
       "     tapply(1:n, fac, range)\n",
       "     tapply(1:n, fac, quantile)\n",
       "     \n",
       "     ## example of ... argument: find quarterly means\n",
       "     tapply(presidents, cycle(presidents), mean, na.rm = TRUE)\n",
       "     \n",
       "     ind <- list(c(1, 2, 2), c(\"A\", \"A\", \"B\"))\n",
       "     table(ind)\n",
       "     tapply(1:3, ind) #-> the split vector\n",
       "     tapply(1:3, ind, sum)\n",
       "     "
      ]
     },
     "execution_count": 75,
     "metadata": {},
     "output_type": "execute_result"
    }
   ],
   "source": [
    "?tapply"
   ]
  },
  {
   "cell_type": "code",
   "execution_count": 76,
   "metadata": {
    "collapsed": false
   },
   "outputs": [
    {
     "name": "stdout",
     "output_type": "stream",
     "text": [
      " int [1:3] 1 2 3\n",
      " int [1:3, 1] 1 2 3\n",
      " int [1, 1:3] 1 2 3\n",
      " int [1:3(1d)] 1 2 3\n"
     ]
    }
   ],
   "source": [
    "str(1:3)                   # 1d vector\n",
    "#>  int [1:3] 1 2 3\n",
    "str(matrix(1:3, ncol = 1)) # column vector\n",
    "#>  int [1:3, 1] 1 2 3\n",
    "str(matrix(1:3, nrow = 1)) # row vector\n",
    "#>  int [1, 1:3] 1 2 3\n",
    "str(array(1:3, 3))         # \"array\" vector\n",
    "#>  int [1:3(1d)] 1 2 3"
   ]
  },
  {
   "cell_type": "code",
   "execution_count": 77,
   "metadata": {
    "collapsed": false
   },
   "outputs": [
    {
     "data": {
      "text/html": [
       "<table>\n",
       "<tbody>\n",
       "\t<tr><td>1, 2, 3</td><td>TRUE</td></tr>\n",
       "\t<tr><td>a</td><td>1</td></tr>\n",
       "</tbody>\n",
       "</table>\n"
      ],
      "text/latex": [
       "\\begin{tabular}{ll}\n",
       "\t 1, 2, 3 & TRUE\\\\\n",
       "\t a & 1\\\\\n",
       "\\end{tabular}\n"
      ],
      "text/markdown": [
       "1. 1. 1\n",
       "2. 2\n",
       "3. 3\n",
       "\n",
       "\n",
       "\n",
       "2. \"a\"\n",
       "3. TRUE\n",
       "4. 1\n",
       "\n",
       "\n"
      ],
      "text/plain": [
       "     [,1]      [,2]\n",
       "[1,] Integer,3 TRUE\n",
       "[2,] \"a\"       1   "
      ]
     },
     "execution_count": 77,
     "metadata": {},
     "output_type": "execute_result"
    }
   ],
   "source": [
    "l <- list(1:3, \"a\", TRUE, 1.0)\n",
    "dim(l) <- c(2, 2)\n",
    "l"
   ]
  },
  {
   "cell_type": "code",
   "execution_count": 78,
   "metadata": {
    "collapsed": false
   },
   "outputs": [
    {
     "name": "stdout",
     "output_type": "stream",
     "text": [
      "List of 4\n",
      " $ : int [1:3] 1 2 3\n",
      " $ : chr \"a\"\n",
      " $ : logi TRUE\n",
      " $ : num 1\n",
      " - attr(*, \"dim\")= int [1:2] 2 2\n"
     ]
    }
   ],
   "source": [
    "str(l)"
   ]
  },
  {
   "cell_type": "markdown",
   "metadata": {},
   "source": [
    "## Data frames\n",
    "- A data frame is the most common way of storing data in R, and if used systematically makes data analysis easier. Under the hood, a data frame is a list of equal-length vectors. This makes it a 2-dimensional structure, so it shares properties of both the matrix and the list. This means that a data frame has names(), colnames(), and rownames(), although names() and colnames() are the same thing. The length() of a data frame is the length of the underlying list and so is the same as ncol(); nrow() gives the number of rows.\n",
    "\n",
    "- As described in subsetting, you can subset a data frame like a 1d structure (where it behaves like a list), or a 2d structure (where it behaves like a matrix).\n",
    "\n"
   ]
  },
  {
   "cell_type": "markdown",
   "metadata": {},
   "source": [
    "### Creation\n",
    "- You create a data frame using data.frame(), which takes named vectors as input:"
   ]
  },
  {
   "cell_type": "code",
   "execution_count": 79,
   "metadata": {
    "collapsed": false
   },
   "outputs": [
    {
     "name": "stdout",
     "output_type": "stream",
     "text": [
      "'data.frame':\t3 obs. of  2 variables:\n",
      " $ x: int  1 2 3\n",
      " $ y: Factor w/ 3 levels \"a\",\"b\",\"c\": 1 2 3\n"
     ]
    }
   ],
   "source": [
    "df <- data.frame(x = 1:3, y = c(\"a\", \"b\", \"c\"))\n",
    "str(df)"
   ]
  },
  {
   "cell_type": "code",
   "execution_count": 80,
   "metadata": {
    "collapsed": false
   },
   "outputs": [
    {
     "name": "stdout",
     "output_type": "stream",
     "text": [
      "'data.frame':\t3 obs. of  2 variables:\n",
      " $ x: int  1 2 3\n",
      " $ y: chr  \"a\" \"b\" \"c\"\n"
     ]
    }
   ],
   "source": [
    "df <- data.frame(\n",
    "  x = 1:3,\n",
    "  y = c(\"a\", \"b\", \"c\"),\n",
    "  stringsAsFactors = FALSE)\n",
    "str(df)"
   ]
  },
  {
   "cell_type": "markdown",
   "metadata": {},
   "source": [
    "### Testing and coercion\n",
    "- Because a data.frame is an S3 class, its type reflects the underlying vector used to build it: the list. To check if an object is a data frame, use class() or test explicitly with is.data.frame():\n",
    "\n",
    "- R의 S3 클래스 = R에 영감을 준 S언어 버전 3에서 따왔음. S3 제네릭 함수, S4 클래스는 보안 기능을 추가하기 위해 나중에 개발되었음\n",
    "- 제네릭 함수 (plot, print, summary처럼 다형성을 가짐. 동일 함수가 서로 다른 클래스에서 다른 연산을 수행)"
   ]
  },
  {
   "cell_type": "code",
   "execution_count": 81,
   "metadata": {
    "collapsed": false
   },
   "outputs": [
    {
     "data": {
      "text/html": [
       "\"list\""
      ],
      "text/latex": [
       "\"list\""
      ],
      "text/markdown": [
       "\"list\""
      ],
      "text/plain": [
       "[1] \"list\""
      ]
     },
     "execution_count": 81,
     "metadata": {},
     "output_type": "execute_result"
    },
    {
     "data": {
      "text/html": [
       "\"data.frame\""
      ],
      "text/latex": [
       "\"data.frame\""
      ],
      "text/markdown": [
       "\"data.frame\""
      ],
      "text/plain": [
       "[1] \"data.frame\""
      ]
     },
     "execution_count": 81,
     "metadata": {},
     "output_type": "execute_result"
    },
    {
     "data": {
      "text/html": [
       "TRUE"
      ],
      "text/latex": [
       "TRUE"
      ],
      "text/markdown": [
       "TRUE"
      ],
      "text/plain": [
       "[1] TRUE"
      ]
     },
     "execution_count": 81,
     "metadata": {},
     "output_type": "execute_result"
    }
   ],
   "source": [
    "typeof(df)\n",
    "#> [1] \"list\"\n",
    "class(df)\n",
    "#> [1] \"data.frame\"\n",
    "is.data.frame(df)"
   ]
  },
  {
   "cell_type": "markdown",
   "metadata": {},
   "source": [
    "- You can coerce an object to a data frame with as.data.frame():\n",
    "- A vector will create a one-column data frame.\n",
    "- A list will create one column for each element; it’s an error if they’re not all the same length.\n",
    "- A matrix will create a data frame with the same number of columns and rows as the matrix."
   ]
  },
  {
   "cell_type": "code",
   "execution_count": 83,
   "metadata": {
    "collapsed": false
   },
   "outputs": [
    {
     "data": {
      "text/html": [
       "<table>\n",
       "<thead><tr><th></th><th scope=col>x</th><th scope=col>y</th><th scope=col>z</th></tr></thead>\n",
       "<tbody>\n",
       "\t<tr><th scope=row>1</th><td>1</td><td>a</td><td>3</td></tr>\n",
       "\t<tr><th scope=row>2</th><td>2</td><td>b</td><td>2</td></tr>\n",
       "\t<tr><th scope=row>3</th><td>3</td><td>c</td><td>1</td></tr>\n",
       "</tbody>\n",
       "</table>\n"
      ],
      "text/latex": [
       "\\begin{tabular}{r|lll}\n",
       "  & x & y & z\\\\\n",
       "\\hline\n",
       "\t1 & 1 & a & 3\\\\\n",
       "\t2 & 2 & b & 2\\\\\n",
       "\t3 & 3 & c & 1\\\\\n",
       "\\end{tabular}\n"
      ],
      "text/plain": [
       "  x y z\n",
       "1 1 a 3\n",
       "2 2 b 2\n",
       "3 3 c 1"
      ]
     },
     "execution_count": 83,
     "metadata": {},
     "output_type": "execute_result"
    }
   ],
   "source": [
    "#Combining data frames\n",
    "cbind(df, data.frame(z = 3:1))\n",
    "#>   x y z\n",
    "#> 1 1 a 3\n",
    "#> 2 2 b 2\n",
    "#> 3 3 c 1"
   ]
  },
  {
   "cell_type": "code",
   "execution_count": 84,
   "metadata": {
    "collapsed": false
   },
   "outputs": [
    {
     "data": {
      "text/html": [
       "<table>\n",
       "<thead><tr><th></th><th scope=col>x</th><th scope=col>y</th></tr></thead>\n",
       "<tbody>\n",
       "\t<tr><th scope=row>1</th><td>1</td><td>a</td></tr>\n",
       "\t<tr><th scope=row>2</th><td>2</td><td>b</td></tr>\n",
       "\t<tr><th scope=row>3</th><td>3</td><td>c</td></tr>\n",
       "\t<tr><th scope=row>4</th><td>10</td><td>z</td></tr>\n",
       "</tbody>\n",
       "</table>\n"
      ],
      "text/latex": [
       "\\begin{tabular}{r|ll}\n",
       "  & x & y\\\\\n",
       "\\hline\n",
       "\t1 & 1 & a\\\\\n",
       "\t2 & 2 & b\\\\\n",
       "\t3 & 3 & c\\\\\n",
       "\t4 & 10 & z\\\\\n",
       "\\end{tabular}\n"
      ],
      "text/plain": [
       "   x y\n",
       "1  1 a\n",
       "2  2 b\n",
       "3  3 c\n",
       "4 10 z"
      ]
     },
     "execution_count": 84,
     "metadata": {},
     "output_type": "execute_result"
    }
   ],
   "source": [
    "rbind(df, data.frame(x = 10, y = \"z\"))"
   ]
  },
  {
   "cell_type": "markdown",
   "metadata": {},
   "source": [
    "- When combining column-wise, the number of rows must match, but row names are ignored. When combining row-wise, both the number and names of columns must match. Use plyr::rbind.fill() to combine data frames that don’t have the same columns.\n",
    "\n",
    "- It’s a common mistake to try and create a data frame by cbind()ing vectors together. This doesn’t work because cbind() will create a matrix unless one of the arguments is already a data frame. Instead use data.frame() directly:"
   ]
  },
  {
   "cell_type": "code",
   "execution_count": 85,
   "metadata": {
    "collapsed": false
   },
   "outputs": [
    {
     "name": "stdout",
     "output_type": "stream",
     "text": [
      "'data.frame':\t2 obs. of  2 variables:\n",
      " $ a: Factor w/ 2 levels \"1\",\"2\": 1 2\n",
      " $ b: Factor w/ 2 levels \"a\",\"b\": 1 2\n"
     ]
    }
   ],
   "source": [
    "bad <- data.frame(cbind(a = 1:2, b = c(\"a\", \"b\")))\n",
    "str(bad)"
   ]
  },
  {
   "cell_type": "code",
   "execution_count": 86,
   "metadata": {
    "collapsed": false
   },
   "outputs": [
    {
     "name": "stdout",
     "output_type": "stream",
     "text": [
      "'data.frame':\t2 obs. of  2 variables:\n",
      " $ a: int  1 2\n",
      " $ b: chr  \"a\" \"b\"\n"
     ]
    }
   ],
   "source": [
    "good <- data.frame(a = 1:2, b = c(\"a\", \"b\"),\n",
    "  stringsAsFactors = FALSE)\n",
    "str(good)"
   ]
  },
  {
   "cell_type": "code",
   "execution_count": 87,
   "metadata": {
    "collapsed": false
   },
   "outputs": [
    {
     "data": {
      "text/html": [
       "<table>\n",
       "<thead><tr><th></th><th scope=col>x</th><th scope=col>y</th></tr></thead>\n",
       "<tbody>\n",
       "\t<tr><th scope=row>1</th><td>1</td><td>1, 2</td></tr>\n",
       "\t<tr><th scope=row>2</th><td>2</td><td>1, 2, 3</td></tr>\n",
       "\t<tr><th scope=row>3</th><td>3</td><td>1, 2, 3, 4</td></tr>\n",
       "</tbody>\n",
       "</table>\n"
      ],
      "text/latex": [
       "\\begin{tabular}{r|ll}\n",
       "  & x & y\\\\\n",
       "\\hline\n",
       "\t1 & 1 & 1, 2\\\\\n",
       "\t2 & 2 & 1, 2, 3\\\\\n",
       "\t3 & 3 & 1, 2, 3, 4\\\\\n",
       "\\end{tabular}\n"
      ],
      "text/plain": [
       "  x          y\n",
       "1 1       1, 2\n",
       "2 2    1, 2, 3\n",
       "3 3 1, 2, 3, 4"
      ]
     },
     "execution_count": 87,
     "metadata": {},
     "output_type": "execute_result"
    }
   ],
   "source": [
    "#Special columns\n",
    "df <- data.frame(x = 1:3)\n",
    "df$y <- list(1:2, 1:3, 1:4)\n",
    "df"
   ]
  },
  {
   "cell_type": "code",
   "execution_count": 88,
   "metadata": {
    "collapsed": false
   },
   "outputs": [
    {
     "ename": "ERROR",
     "evalue": "Error in data.frame(1:2, 1:3, 1:4, check.names = FALSE, stringsAsFactors = TRUE): arguments imply differing number of rows: 2, 3, 4\n",
     "output_type": "error",
     "traceback": [
      "Error in data.frame(1:2, 1:3, 1:4, check.names = FALSE, stringsAsFactors = TRUE): arguments imply differing number of rows: 2, 3, 4\n"
     ]
    }
   ],
   "source": [
    "data.frame(x = 1:3, y = list(1:2, 1:3, 1:4))"
   ]
  },
  {
   "cell_type": "code",
   "execution_count": 89,
   "metadata": {
    "collapsed": false
   },
   "outputs": [
    {
     "name": "stdout",
     "output_type": "stream",
     "text": [
      "'data.frame':\t3 obs. of  2 variables:\n",
      " $ x: int  1 2 3\n",
      " $ y:List of 3\n",
      "  ..$ : int  1 2\n",
      "  ..$ : int  1 2 3\n",
      "  ..$ : int  1 2 3 4\n"
     ]
    }
   ],
   "source": [
    "str(df)"
   ]
  },
  {
   "cell_type": "code",
   "execution_count": null,
   "metadata": {
    "collapsed": true
   },
   "outputs": [],
   "source": []
  }
 ],
 "metadata": {
  "kernelspec": {
   "display_name": "R",
   "language": "R",
   "name": "ir"
  },
  "language_info": {
   "codemirror_mode": "r",
   "file_extension": ".r",
   "mimetype": "text/x-r-source",
   "name": "R",
   "pygments_lexer": "r",
   "version": "3.1.3"
  }
 },
 "nbformat": 4,
 "nbformat_minor": 0
}
